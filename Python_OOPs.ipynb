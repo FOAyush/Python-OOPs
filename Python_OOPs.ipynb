{
  "nbformat": 4,
  "nbformat_minor": 0,
  "metadata": {
    "colab": {
      "provenance": []
    },
    "kernelspec": {
      "name": "python3",
      "display_name": "Python 3"
    },
    "language_info": {
      "name": "python"
    }
  },
  "cells": [
    {
      "cell_type": "markdown",
      "source": [
        "**1) What is Object-Oriented Programming (OOP)?**\n",
        "\n",
        "**Ans)->**Object-Oriented Programming (OOP) is a programming paradigm centered around the concept of \"objects,\" which are instances of classes. A class serves as a blueprint that defines the structure and behavior of its objects by specifying attributes (data) and methods (functions). OOP allows programmers to model real-world entities more naturally by encapsulating data and the operations that manipulate that data within objects. One of the core principles of OOP is encapsulation, which keeps the internal state of an object protected from outside interference and misuse. Abstraction is another key principle, enabling developers to hide complex implementation details and expose only the necessary parts of an object’s interface. Inheritance allows new classes to derive properties and behaviors from existing ones, promoting code reuse and reducing redundancy. Polymorphism, another essential feature, enables different classes to define methods that share the same name but behave differently depending on the object calling them. These principles make OOP a powerful and flexible approach to software development, facilitating modularity, scalability, and maintainability in complex programs.\n",
        "\n",
        "\n",
        "**2) What is a class in OOP?**\n",
        "\n",
        "**Ans)->** In Object-Oriented Programming (OOP), a class is a blueprint or template for creating objects. It defines a set of attributes (also called properties or fields) and methods (functions) that the created objects, known as instances, will have. The class itself does not hold any data, but it provides the structure that determines how objects behave and what kind of data they can store.\n",
        "\n",
        "For example, if you have a class called Car, it might define attributes such as color, make, and speed, and methods like drive() or stop(). When you create an object from the class—such as my_car = Car()—you’re creating an individual car with its own specific values for those attributes.\n",
        "\n",
        "Classes promote reusability and organization in code by allowing you to define once and reuse the structure many times across a program. They are fundamental to OOP because they encapsulate data and behavior, supporting key principles like inheritance and polymorphism.\n",
        "\n",
        "\n",
        "**3) What is an object in OOP?**\n",
        "\n",
        "**Ans)->** In Object-Oriented Programming (OOP), an **object** is an instance of a class. It represents a specific, concrete entity that combines both **data** (attributes) and **behavior** (methods) defined by its class. While a class is like a blueprint or template, an object is the actual thing created based on that blueprint.\n",
        "\n",
        "For example, if you have a class called `Car` with attributes like `color` and `speed`, and methods like `drive()` and `brake()`, then creating an object such as `my_car = Car(\"red\", 120)` gives you a specific car with its own color and speed. This object can now perform actions (methods) and store information (attributes) independently of other objects.\n",
        "\n",
        "Objects are central to OOP because they allow developers to model real-world concepts in code, making programs more modular, reusable, and easier to manage. Each object maintains its own state, which means you can create multiple objects from the same class, each with different data.\n",
        "\n",
        "\n",
        "**4) What is the difference between abstraction and encapsulation?**\n",
        "\n",
        "**Ans)->** Abstraction and encapsulation are two core concepts in Object-Oriented Programming that serve different but complementary purposes. Abstraction is the process of hiding the complex internal details of how something works and exposing only the necessary parts to the user. It allows programmers to focus on what an object does rather than how it does it, simplifying the interaction with complex systems. For instance, when calling a method like `print()` or `startEngine()`, the user does not need to understand the internal code that makes these actions happen. Encapsulation, on the other hand, is the technique of bundling data and the methods that operate on that data within a single unit, such as a class, and restricting direct access to some of the object's components. This is typically achieved by making variables private and providing public getter and setter methods. Encapsulation ensures that an object's internal state cannot be changed arbitrarily, promoting data integrity and security. While abstraction focuses on hiding the complexity from the user, encapsulation focuses on protecting the internal state of an object and ensuring that it is used in a controlled manner. Both concepts work together to create organized, secure, and easy-to-maintain code.\n",
        "\n",
        "\n",
        "**5) What are dunder methods in Python?**\n",
        "\n",
        "**Ans)->** **Dunder methods** in Python—short for **“double underscore” methods**—are special methods with names that begin and end with double underscores (e.g., `__init__`, `__str__`, `__len__`). They are also known as **magic methods** because they enable the customization of basic behavior for Python objects. These methods are not meant to be called directly by the user; instead, Python automatically invokes them in certain situations.\n",
        "\n",
        "For example, `__init__` is called when you create a new object to initialize it, `__str__` defines what gets returned when you call `str()` or `print()` on an object, and `__len__` is used by the built-in `len()` function. Dunder methods allow you to define how objects of your class should behave when used with built-in Python operations like arithmetic (`__add__`), comparisons (`__eq__`, `__lt__`), iteration (`__iter__`), or context management (`__enter__`, `__exit__`).\n",
        "\n",
        "By implementing these methods, you can make your custom classes behave more like built-in Python types, improving integration and readability. For instance, if you define `__repr__` for your class, it will return a developer-friendly string representation of the object when it's inspected or printed.\n",
        "\n",
        "\n",
        "**6) Explain the concept of inheritance in OOP.**\n",
        "\n",
        "**Ans)->** Inheritance is a fundamental concept in Object-Oriented Programming (OOP) that allows one class to acquire the properties and behaviors of another class. The class that is inherited from is called the **parent** or **base class**, and the class that inherits from it is called the **child** or **derived class**. This means that the child class automatically has access to the methods and attributes of the parent class, allowing for code reuse and the creation of more specialized classes without rewriting existing code.\n",
        "\n",
        "For example, if you have a base class called `Animal` with a method `speak()`, a derived class like `Dog` can inherit from `Animal` and use the `speak()` method, or even override it to provide a more specific implementation. Inheritance supports the concept of **hierarchical classification**, making it easier to build and manage complex systems. It also promotes **polymorphism**, where methods in different classes can have the same name but behave differently based on the class they belong to.\n",
        "\n",
        "Overall, inheritance helps organize code in a logical and hierarchical way, reduces redundancy, and enhances maintainability by allowing changes in the base class to automatically reflect in derived classes.\n",
        "\n",
        "\n",
        "**7) What is polymorphism in OOP?**\n",
        "\n",
        "**Ans)->** Polymorphism is a key concept in Object-Oriented Programming (OOP) that allows objects of different classes to be treated as objects of a common superclass. It enables a single interface to represent different underlying forms or behaviors. In simple terms, polymorphism allows the same method name to perform different tasks depending on the object that is calling it.\n",
        "\n",
        "There are two main types of polymorphism: **compile-time (or static)** polymorphism and **runtime (or dynamic)** polymorphism. Compile-time polymorphism is typically achieved through method overloading, where multiple methods have the same name but different parameters. Runtime polymorphism is achieved through method overriding, where a subclass provides a specific implementation of a method already defined in its superclass.\n",
        "\n",
        "For example, consider a base class `Animal` with a method `speak()`. If subclasses like `Dog` and `Cat` override the `speak()` method, calling `speak()` on an object of type `Animal` could produce different results depending on whether the object is a `Dog` or a `Cat`. This flexibility allows for cleaner, more maintainable code and makes it easier to extend and modify behavior in complex systems.\n",
        "\n",
        "\n",
        "**8) How is encapsulation achieved in Python?**\n",
        "\n",
        "**Ans)->** Encapsulation in Python is achieved by restricting direct access to an object's internal data and methods, typically by using access modifiers. In Python, although there is no strict enforcement of access control like in some other languages, encapsulation is implemented through naming conventions. Attributes intended to be private are prefixed with a single underscore (`_`) or double underscore (`__`). A single underscore indicates that the attribute is intended for internal use only, while a double underscore triggers name mangling, which makes it harder to access the attribute from outside the class. To interact with these private attributes safely, Python uses public methods known as **getters** and **setters**. These methods allow controlled access to the internal data, enabling validation or modification of values while keeping the implementation hidden from the outside world. By encapsulating data this way, Python promotes data integrity, reduces the risk of unintended interference, and makes the code more maintainable and modular.\n",
        "\n",
        "\n",
        "**9) What is a constructor in Python?**\n",
        "\n",
        "**Ans)->** A constructor in Python is a special method called `__init__` that is automatically invoked when a new object of a class is created. Its primary purpose is to initialize the object's attributes with default or user-provided values. The constructor allows you to set up the initial state of an object right when it is instantiated, ensuring that the object starts with the necessary data or configuration. For example, in a `Car` class, the `__init__` method might take parameters like `color` and `model` and assign them to the object’s attributes. Although the constructor itself doesn’t create the object (that’s handled by Python internally), it prepares the object for use by initializing its properties. Using constructors makes your classes more flexible and your code cleaner by centralizing the setup logic.\n",
        "\n",
        "\n",
        "**10) What are class and static methods in Python?**\n",
        "\n",
        "**Ans)-> **In Python, class methods and static methods are special types of methods that belong to a class rather than any particular instance. A class method is defined with the `@classmethod` decorator and takes the class itself as the first argument, usually named `cls`. This allows class methods to access or modify class-level data and to create alternative constructors or perform operations related to the class as a whole. In contrast, static methods are defined with the `@staticmethod` decorator and do not receive any automatic first argument, neither the instance (`self`) nor the class (`cls`). Static methods behave like regular functions but are grouped within the class for better organization and readability. They are typically used for utility functions that have a logical connection to the class but do not need to access or modify the class or instance data. Together, these methods provide flexible ways to organize functionality inside classes depending on whether the method needs to interact with class-level data or simply perform a related task.\n",
        "\n",
        "\n",
        "**11) What is method overloading in Python?**\n",
        "\n",
        "**Ans)->** Method overloading is a concept where multiple methods in the same class share the same name but differ in the number or type of their parameters. It allows a method to perform different tasks based on the arguments passed to it. However, unlike some other programming languages, Python does **not** support method overloading in the traditional sense because it allows only one method with a given name in a class. If you define multiple methods with the same name, the last one defined will override the previous ones.\n",
        "\n",
        "To achieve similar behavior, Python programmers typically use default arguments, variable-length argument lists (`*args` and `**kwargs`), or manually check the types and number of arguments inside a single method to handle different cases. This flexibility allows a single method to behave differently depending on how it is called, effectively mimicking method overloading without explicit support.\n",
        "\n",
        "\n",
        "**12) What is method overriding in OOP?**\n",
        "\n",
        "**Ans)->** Method overriding in Object-Oriented Programming (OOP) occurs when a subclass provides its own specific implementation of a method that is already defined in its parent (or superclass). This allows the subclass to modify or extend the behavior of that method to better suit its needs while keeping the same method name and signature. When an overridden method is called on an instance of the subclass, the version in the subclass is executed instead of the one in the parent class. Method overriding is a key feature that enables **polymorphism**, allowing different classes to respond differently to the same method call. For example, a base class `Animal` might have a method `speak()`, but subclasses like `Dog` and `Cat` can override `speak()` to provide their own unique sounds. This makes programs more flexible and easier to extend without changing existing code.\n",
        "\n",
        "\n",
        "**13) What is a property decorator in Python?**\n",
        "\n",
        "**Ans)->** In Python, a **property decorator** (`@property`) is a built-in way to define methods in a class that behave like attributes. It allows you to create managed attributes—meaning you can define getter, setter, and deleter methods to control access to an attribute, while still using simple attribute-like syntax when getting or setting values. This helps enforce encapsulation by hiding the internal implementation details and allows validation or computation when an attribute is accessed or modified.\n",
        "\n",
        "For example, using `@property`, you can define a method that is accessed like a regular attribute, and then use `@<property_name>.setter` to define how to set its value safely. This makes the code cleaner and more intuitive, combining the benefits of both methods and attributes in object-oriented design.\n",
        "\n",
        "\n",
        "**15) What is an abstract class in Python? **\n",
        "\n",
        "**Ans)->** An **abstract class** in Python is a class that cannot be instantiated on its own and is designed to be a blueprint for other classes. It often contains one or more **abstract methods**, which are methods declared but not implemented in the abstract class. These abstract methods must be overridden by any subclass that inherits from the abstract class. Python provides the `abc` module to create abstract classes using the `ABC` base class and the `@abstractmethod` decorator. Abstract classes are useful for defining a common interface or set of methods that multiple subclasses must implement, ensuring consistency across different implementations while allowing flexibility in how the details are handled. For example, an abstract class `Animal` might define an abstract method `speak()`, which must be implemented differently in subclasses like `Dog` or `Cat`.\n",
        "\n",
        "\n",
        "**16) What are the advantages of OOP?**\n",
        "\n",
        "**Ans)->** The advantages of Object-Oriented Programming (OOP) lie in its ability to organize and manage complex software systems more effectively. First, OOP promotes **modularity** by breaking down programs into self-contained objects, making code easier to understand, develop, and maintain. It encourages **code reusability** through inheritance, allowing new classes to reuse existing code, which reduces redundancy and speeds up development. OOP also enhances **scalability** and **flexibility**, as objects can be extended or modified without affecting other parts of the system, supporting easier updates and expansion. Through **encapsulation**, it protects an object's internal state by restricting direct access, improving security and reducing bugs. Additionally, **polymorphism** allows different objects to be treated through a common interface, enabling more flexible and dynamic code. Overall, OOP leads to clearer, more manageable, and more robust programs that better mirror real-world systems.\n",
        "\n",
        "\n",
        "**17) What is the difference between a class variable and an instance variable?**\n",
        "\n",
        "**Ans)->** A **class variable** is a variable that is shared across all instances of a class. It is defined within the class but outside any instance methods, and all objects of that class access the same copy of this variable. Changes made to a class variable affect every instance because it belongs to the class itself, not to any particular object. In contrast, an **instance variable** is unique to each object created from the class. It is usually defined inside the constructor (`__init__` method) or other instance methods using `self`, and each instance maintains its own separate copy of these variables. Changes to an instance variable affect only that specific object, without impacting others. Essentially, class variables hold data shared by all instances, while instance variables store data unique to each individual object.\n",
        "\n",
        "\n",
        "**18) What is multiple inheritance in Python?**\n",
        "\n",
        "**Ans)->** Multiple inheritance in Python is a feature where a class can inherit attributes and methods from more than one parent class. This allows a single subclass to combine behaviors and properties from multiple base classes, enabling greater flexibility and code reuse. For example, if you have one class defining general animal behaviors and another class defining flying abilities, a new class like `Bird` can inherit from both to gain both sets of features. However, multiple inheritance can also introduce complexity, such as conflicts when parent classes have methods or attributes with the same name. Python handles these situations using a method resolution order (MRO) to determine the order in which base classes are searched when calling methods. Overall, multiple inheritance helps build rich and diverse class hierarchies by combining different functionalities.\n",
        "\n",
        "**19) Explain the purpose of ‘’__str__’ and ‘__repr__’ ‘ methods in Python.**\n",
        "\n",
        "**Ans)->** In Python, the `__str__` and `__repr__` methods are special dunder methods used to define how an object is represented as a string, but they serve slightly different purposes.\n",
        "\n",
        "The `__str__` method is intended to provide a **human-readable** or informal string representation of an object. It’s what gets called when you use `print()` on an object or convert it to a string with `str()`. The goal of `__str__` is to give a clear and concise description that is easy to understand, often for end users.\n",
        "\n",
        "On the other hand, `__repr__` is meant to provide an **official** or more detailed string representation of the object, which ideally can be used to recreate the object if fed back to Python’s interpreter. It is called by the `repr()` function and is also used when inspecting objects in an interactive session or debugging. If `__str__` is not defined, Python falls back to using `__repr__` as a default.\n",
        "\n",
        "In summary, `__str__` focuses on readability and user-friendly display, while `__repr__` focuses on unambiguous representation mainly for developers and debugging.\n",
        "\n",
        "\n",
        "**20) What is the significance of the ‘super()’ function in Python?**\n",
        "\n",
        "**Ans)->** The `super()` function in Python is used to give you access to methods from a parent or superclass from within a subclass. It’s especially important in inheritance, allowing a subclass to call and extend the behavior of its parent class without explicitly naming the parent. This makes your code more maintainable and supports cooperative multiple inheritance by ensuring the correct method resolution order (MRO) is followed. For example, when overriding a method in a subclass, you can use `super()` to call the original method in the parent class, adding new functionality while still preserving the existing behavior. Overall, `super()` helps promote code reuse, simplifies calling inherited methods, and makes complex inheritance hierarchies easier to manage.\n",
        "\n",
        "\n",
        "**21) What is the significance of the __del__ method in Python?**\n",
        "\n",
        "**Ans)->** The `__del__` method in Python is a special destructor method that is called when an object is about to be destroyed or garbage collected. Its primary purpose is to allow an object to clean up resources—such as closing files, releasing network connections, or freeing memory—before it is removed from memory. However, unlike constructors (`__init__`), the exact timing of when `__del__` is called is not guaranteed, because Python’s garbage collection is based on reference counting and may be delayed or skipped in certain cases, such as circular references. Because of this unpredictability, relying heavily on `__del__` for critical cleanup is generally discouraged; instead, context managers (`with` statements) and explicit resource management are preferred. Nonetheless, `__del__` can be useful for simple cleanup tasks or debugging purposes.\n",
        "\n",
        "\n",
        "**22) What is the difference between @staticmethod and @classmethod in Python?**\n",
        "\n",
        "**Ans)->** The difference between `@staticmethod` and `@classmethod` in Python lies in how they receive their first argument and how they interact with the class:\n",
        "\n",
        "A **`@staticmethod`** defines a method that does not receive an implicit first argument—neither the instance (`self`) nor the class (`cls`). It behaves like a regular function that happens to reside inside a class’s namespace. Static methods do not have access to the instance or class attributes and are typically used for utility functions related to the class but not dependent on class or instance data.\n",
        "\n",
        "In contrast, a **`@classmethod`** receives the class itself as the first argument, conventionally named `cls`. This allows class methods to access and modify class state that applies across all instances. Class methods are often used to create alternative constructors or methods that operate on the class rather than on individual objects.\n",
        "\n",
        "In summary, use `@staticmethod` when you don’t need to know about the class or instance, and use `@classmethod` when you need to work with the class itself.\n",
        "\n",
        "\n",
        "**23) How does polymorphism work in Python with inheritance?**\n",
        "\n",
        "**Ans)->** Polymorphism in Python with inheritance allows objects of different subclasses to be treated as instances of a common parent class while still exhibiting their own unique behaviors. When a method is defined in a parent class and overridden in its subclasses, Python’s polymorphism enables you to call that method on a parent class reference and have the correct subclass version executed at runtime. This is possible because Python uses **dynamic method dispatch**, meaning the method that matches the actual object type is called, not just the type of the reference variable.\n",
        "\n",
        "For example, if you have a base class `Animal` with a method `speak()`, and subclasses `Dog` and `Cat` each override `speak()` with their own implementations, you can write code that works with an `Animal` reference but calls `speak()` on any animal object. When you call `speak()` on a `Dog` instance, it will bark, and calling it on a `Cat` instance will meow, even if you’re treating both objects as generic `Animal`s. This ability to use the same interface while allowing different underlying behavior is the essence of polymorphism in OOP, making code more flexible and extensible.\n",
        "\n",
        "\n",
        "**24) What is method chaining in Python OOP?**\n",
        "\n",
        "**Ans)->** Method chaining in Python Object-Oriented Programming is a technique where multiple methods are called sequentially on the same object within a single line of code. This is made possible when each method returns the object itself (`self`), allowing the next method to be invoked directly on that object without needing separate statements. Method chaining helps make the code more concise and readable by reducing repetition and clearly showing a series of operations or configurations performed on the same instance. It’s often used in fluent interfaces or builder patterns where you want to apply multiple changes step-by-step in a clean and expressive manner. To enable method chaining, methods simply need to return `self` after executing their logic.\n",
        "\n",
        "\n",
        "**25) What is the purpose of the __call__ method in Python?**\n",
        "\n",
        "**Ans)->** The `__call__` method in Python allows an instance of a class to be called like a regular function. By defining this special method inside a class, you enable objects of that class to use the function call syntax (e.g., `obj()`). This can be useful for creating callable objects that maintain state or encapsulate behavior, combining the flexibility of functions with the benefits of object-oriented design. For example, you might use `__call__` to make an object behave like a function that processes data, implements a configurable algorithm, or acts as a callback. Overall, the `__call__` method provides a clean and intuitive way to make objects behave like functions.\n"
      ],
      "metadata": {
        "id": "_790t0yNvmVl"
      }
    },
    {
      "cell_type": "markdown",
      "source": [],
      "metadata": {
        "id": "Wz3jAoiJuil7"
      }
    },
    {
      "cell_type": "code",
      "source": [
        "# 1)  Create a parent class Animal with a method speak() that prints a generic message. Create a child class Dog that overrides the speak() method to print \"Bark!\n",
        "\n",
        "class Animal:\n",
        "    def speak(self):\n",
        "        print(\"This animal makes a sound.\")\n",
        "\n",
        "class Dog(Animal):\n",
        "    def speak(self):\n",
        "        print(\"Bark!\")\n",
        "\n",
        "\n",
        "animal = Animal()\n",
        "animal.speak()\n",
        "\n",
        "dog = Dog()\n",
        "dog.speak()\n"
      ],
      "metadata": {
        "colab": {
          "base_uri": "https://localhost:8080/"
        },
        "id": "gvnibyJ25l_y",
        "outputId": "b1461e8d-3193-4117-b483-b35f2942513b"
      },
      "execution_count": 2,
      "outputs": [
        {
          "output_type": "stream",
          "name": "stdout",
          "text": [
            "This animal makes a sound.\n",
            "Bark!\n"
          ]
        }
      ]
    },
    {
      "cell_type": "code",
      "source": [
        "# 2)  Write a program to create an abstract class Shape with a method area(). Derive classes Circle and Rectangle from it and implement the area() method in both.\n",
        "\n",
        "from abc import ABC, abstractmethod\n",
        "import math\n",
        "\n",
        "class Shape(ABC):\n",
        "    @abstractmethod\n",
        "    def area(self):\n",
        "        pass\n",
        "\n",
        "class Circle(Shape):\n",
        "    def __init__(self, radius):\n",
        "        self.radius = radius\n",
        "\n",
        "    def area(self):\n",
        "        return math.pi * (self.radius ** 2)\n",
        "\n",
        "class Rectangle(Shape):\n",
        "    def __init__(self, width, height):\n",
        "        self.width = width\n",
        "        self.height = height\n",
        "\n",
        "    def area(self):\n",
        "        return self.width * self.height\n",
        "\n",
        "circle = Circle(5)\n",
        "print(f\"Area of Circle: {circle.area()}\")\n",
        "\n",
        "rectangle = Rectangle(4, 6)\n",
        "print(f\"Area of Rectangle: {rectangle.area()}\")\n"
      ],
      "metadata": {
        "colab": {
          "base_uri": "https://localhost:8080/"
        },
        "id": "jnWt4IZq5v16",
        "outputId": "3d779b3f-0002-4030-88d5-daa54e36efdd"
      },
      "execution_count": 3,
      "outputs": [
        {
          "output_type": "stream",
          "name": "stdout",
          "text": [
            "Area of Circle: 78.53981633974483\n",
            "Area of Rectangle: 24\n"
          ]
        }
      ]
    },
    {
      "cell_type": "code",
      "source": [
        "# 3)  Implement a multi-level inheritance scenario where a class Vehicle has an attribute type.\n",
        "     #  Derive a class Car and further derive a class ElectricCar that adds a battery attribute.\n",
        "\n",
        "class Vehicle:\n",
        "    def __init__(self, vehicle_type):\n",
        "        self.type = vehicle_type\n",
        "\n",
        "class Car(Vehicle):\n",
        "    def __init__(self, vehicle_type, brand):\n",
        "        super().__init__(vehicle_type)\n",
        "        self.brand = brand\n",
        "\n",
        "class ElectricCar(Car):\n",
        "    def __init__(self, vehicle_type, brand, battery_capacity):\n",
        "        super().__init__(vehicle_type, brand)\n",
        "        self.battery = battery_capacity\n",
        "\n",
        "    def display_info(self):\n",
        "        print(f\"Type: {self.type}\")\n",
        "        print(f\"Brand: {self.brand}\")\n",
        "        print(f\"Battery Capacity: {self.battery} kWh\")\n",
        "\n",
        "my_electric_car = ElectricCar(\"Car\", \"Tesla\", 100)\n",
        "my_electric_car.display_info()\n",
        "\n",
        "\n"
      ],
      "metadata": {
        "colab": {
          "base_uri": "https://localhost:8080/"
        },
        "id": "hB9i8uZR580O",
        "outputId": "7bbd7743-c161-48d1-84cc-a8b231639c81"
      },
      "execution_count": 9,
      "outputs": [
        {
          "output_type": "stream",
          "name": "stdout",
          "text": [
            "Type: Car\n",
            "Brand: Tesla\n",
            "Battery Capacity: 100 kWh\n"
          ]
        }
      ]
    },
    {
      "cell_type": "code",
      "source": [
        "# 4)  Demonstrate polymorphism by creating a base class Bird with a method fly(). Create two derived classes Sparrow and Penguin that override the fly() method.\n",
        "\n",
        "class Bird:\n",
        "    def fly(self):\n",
        "        print(\"This bird can fly.\")\n",
        "\n",
        "class Sparrow(Bird):\n",
        "    def fly(self):\n",
        "        print(\"Sparrow is flying high!\")\n",
        "\n",
        "class Penguin(Bird):\n",
        "    def fly(self):\n",
        "        print(\"Penguins can't fly, but they swim!\")\n",
        "\n",
        "def make_bird_fly(bird):\n",
        "    bird.fly()\n",
        "\n",
        "sparrow = Sparrow()\n",
        "penguin = Penguin()\n",
        "\n",
        "make_bird_fly(sparrow)\n",
        "make_bird_fly(penguin)\n"
      ],
      "metadata": {
        "colab": {
          "base_uri": "https://localhost:8080/"
        },
        "id": "g-fxt2DB6BP1",
        "outputId": "caa3ebbb-9f4b-4480-f557-cf61eb5b5f6b"
      },
      "execution_count": 10,
      "outputs": [
        {
          "output_type": "stream",
          "name": "stdout",
          "text": [
            "Sparrow is flying high!\n",
            "Penguins can't fly, but they swim!\n"
          ]
        }
      ]
    },
    {
      "cell_type": "code",
      "source": [
        "# 5) Write a program to demonstrate encapsulation by creating a class BankAccount with private attributes balance and methods to deposit, withdraw, and check balance.\n",
        "\n",
        "class BankAccount:\n",
        "    def __init__(self, initial_balance=0):\n",
        "        self.__balance = initial_balance  # Private attribute\n",
        "\n",
        "    def deposit(self, amount):\n",
        "        if amount > 0:\n",
        "            self.__balance += amount\n",
        "            print(f\"Deposited: ${amount}\")\n",
        "        else:\n",
        "            print(\"Deposit amount must be positive.\")\n",
        "\n",
        "    def withdraw(self, amount):\n",
        "        if amount > 0:\n",
        "            if amount <= self.__balance:\n",
        "                self.__balance -= amount\n",
        "                print(f\"Withdrawn: ${amount}\")\n",
        "            else:\n",
        "                print(\"Insufficient balance.\")\n",
        "        else:\n",
        "            print(\"Withdrawal amount must be positive.\")\n",
        "\n",
        "    def get_balance(self):\n",
        "        return self.__balance\n",
        "\n",
        "account = BankAccount(100)\n",
        "account.deposit(50)\n",
        "account.withdraw(30)\n",
        "print(f\"Balance: ${account.get_balance()}\")\n",
        "\n",
        "\n",
        "\n"
      ],
      "metadata": {
        "colab": {
          "base_uri": "https://localhost:8080/"
        },
        "id": "J42GP6dq6h79",
        "outputId": "5b3447e4-8973-42fe-855f-ce3626295475"
      },
      "execution_count": 12,
      "outputs": [
        {
          "output_type": "stream",
          "name": "stdout",
          "text": [
            "Deposited: $50\n",
            "Withdrawn: $30\n",
            "Balance: $120\n"
          ]
        }
      ]
    },
    {
      "cell_type": "code",
      "source": [
        "# 6)  Demonstrate runtime polymorphism using a method play() in a base class Instrument. Derive classes Guitar and Piano that implement their own version of play()\n",
        "\n",
        "class Instrument:\n",
        "    def play(self):\n",
        "        print(\"Playing some instrument\")\n",
        "\n",
        "class Guitar(Instrument):\n",
        "    def play(self):\n",
        "        print(\"Strumming the guitar\")\n",
        "\n",
        "class Piano(Instrument):\n",
        "    def play(self):\n",
        "        print(\"Playing the piano\")\n",
        "\n",
        "def perform(instrument):\n",
        "    instrument.play()\n",
        "\n",
        "guitar = Guitar()\n",
        "piano = Piano()\n",
        "\n",
        "perform(guitar)\n",
        "perform(piano)\n"
      ],
      "metadata": {
        "colab": {
          "base_uri": "https://localhost:8080/"
        },
        "id": "nXF-OaZF6zER",
        "outputId": "8debe4f2-428c-495b-8054-1cde022841a8"
      },
      "execution_count": 13,
      "outputs": [
        {
          "output_type": "stream",
          "name": "stdout",
          "text": [
            "Strumming the guitar\n",
            "Playing the piano\n"
          ]
        }
      ]
    },
    {
      "cell_type": "code",
      "source": [
        "# 7) Create a class MathOperations with a class method add_numbers() to add two numbers and a static method subtract_numbers() to subtract two numbers\n",
        "\n",
        "class MathOperations:\n",
        "    @classmethod\n",
        "    def add_numbers(cls, a, b):\n",
        "        return a + b\n",
        "\n",
        "    @staticmethod\n",
        "    def subtract_numbers(a, b):\n",
        "        return a - b\n",
        "\n",
        "print(MathOperations.add_numbers(10, 5))\n",
        "print(MathOperations.subtract_numbers(10, 5))\n"
      ],
      "metadata": {
        "colab": {
          "base_uri": "https://localhost:8080/"
        },
        "id": "W9-wp0V16_sp",
        "outputId": "fd34d998-9267-4fee-c9b3-4a6440f2bbb7"
      },
      "execution_count": 14,
      "outputs": [
        {
          "output_type": "stream",
          "name": "stdout",
          "text": [
            "15\n",
            "5\n"
          ]
        }
      ]
    },
    {
      "cell_type": "code",
      "source": [
        "# 8)  Implement a class Person with a class method to count the total number of persons created.\n",
        "\n",
        "class Person:\n",
        "    _count = 0\n",
        "\n",
        "    def __init__(self, name):\n",
        "        self.name = name\n",
        "        Person._count += 1\n",
        "\n",
        "    @classmethod\n",
        "    def total_persons(cls):\n",
        "        return cls._count\n",
        "\n",
        "p1 = Person(\"Alice\")\n",
        "p2 = Person(\"Bob\")\n",
        "p3 = Person(\"Charlie\")\n",
        "\n",
        "print(Person.total_persons())\n"
      ],
      "metadata": {
        "colab": {
          "base_uri": "https://localhost:8080/"
        },
        "id": "hXTm6E5C7Kfq",
        "outputId": "331096e9-17b3-4900-8e43-f435e1571723"
      },
      "execution_count": 15,
      "outputs": [
        {
          "output_type": "stream",
          "name": "stdout",
          "text": [
            "3\n"
          ]
        }
      ]
    },
    {
      "cell_type": "code",
      "source": [
        "# 9) Write a class Fraction with attributes numerator and denominator. Override the str method to display the fraction as \"numerator/denominator\"\n",
        "\n",
        "class Fraction:\n",
        "    def __init__(self, numerator, denominator):\n",
        "        self.numerator = numerator\n",
        "        self.denominator = denominator\n",
        "\n",
        "    def __str__(self):\n",
        "        return f\"{self.numerator}/{self.denominator}\"\n",
        "\n",
        "frac = Fraction(3, 4)\n",
        "print(frac)\n"
      ],
      "metadata": {
        "colab": {
          "base_uri": "https://localhost:8080/"
        },
        "id": "Hb5dPbpe7Ujc",
        "outputId": "33d4fdd2-a762-45e4-c345-619478eef776"
      },
      "execution_count": 16,
      "outputs": [
        {
          "output_type": "stream",
          "name": "stdout",
          "text": [
            "3/4\n"
          ]
        }
      ]
    },
    {
      "cell_type": "code",
      "source": [
        "# 10)  Demonstrate operator overloading by creating a class Vector and overriding the add method to add two vectors\n",
        "\n",
        "class Vector:\n",
        "    def __init__(self, x, y):\n",
        "        self.x = x\n",
        "        self.y = y\n",
        "\n",
        "    def __add__(self, other):\n",
        "        if isinstance(other, Vector):\n",
        "            return Vector(self.x + other.x, self.y + other.y)\n",
        "        return NotImplemented\n",
        "\n",
        "    def __str__(self):\n",
        "        return f\"Vector({self.x}, {self.y})\"\n",
        "\n",
        "v1 = Vector(2, 3)\n",
        "v2 = Vector(4, 1)\n",
        "result = v1 + v2\n",
        "print(result)\n"
      ],
      "metadata": {
        "colab": {
          "base_uri": "https://localhost:8080/"
        },
        "id": "UJ1p6Muh7c_8",
        "outputId": "b25df355-e541-4dec-efec-db20fadb4f96"
      },
      "execution_count": 18,
      "outputs": [
        {
          "output_type": "stream",
          "name": "stdout",
          "text": [
            "Vector(6, 4)\n"
          ]
        }
      ]
    },
    {
      "cell_type": "code",
      "source": [
        "# 11) Create a class Person with attributes name and age. Add a method greet() that prints \"Hello, my name is {name} and I am {age} years old.\"\n",
        "\n",
        "class Person:\n",
        "    def __init__(self, name, age):\n",
        "        self.name = name\n",
        "        self.age = age\n",
        "\n",
        "    def greet(self):\n",
        "        print(f\"Hello, my name is {self.name} and I am {self.age} years old.\")\n",
        "\n",
        "person = Person(\"Alice\", 30)\n",
        "person.greet()\n"
      ],
      "metadata": {
        "colab": {
          "base_uri": "https://localhost:8080/"
        },
        "id": "Dbz626FL7stY",
        "outputId": "debd55b4-f049-4102-98fc-174301f83cd0"
      },
      "execution_count": 19,
      "outputs": [
        {
          "output_type": "stream",
          "name": "stdout",
          "text": [
            "Hello, my name is Alice and I am 30 years old.\n"
          ]
        }
      ]
    },
    {
      "cell_type": "code",
      "source": [
        "# 12)  Implement a class Student with attributes name and grades. Create a method average_grade() to compute the average of the grades.\n",
        "\n",
        "class Student:\n",
        "    def __init__(self, name, grades):\n",
        "        self.name = name\n",
        "        self.grades = grades\n",
        "\n",
        "    def average_grade(self):\n",
        "        if not self.grades:\n",
        "            return 0\n",
        "        return sum(self.grades) / len(self.grades)\n",
        "\n",
        "student = Student(\"John\", [85, 90, 78, 92])\n",
        "print(f\"{student.name}'s average grade is {student.average_grade():.2f}\")\n",
        "\n"
      ],
      "metadata": {
        "colab": {
          "base_uri": "https://localhost:8080/"
        },
        "id": "E9WPAa8_73XP",
        "outputId": "a315242d-75e2-4c71-8070-995aa875592f"
      },
      "execution_count": 20,
      "outputs": [
        {
          "output_type": "stream",
          "name": "stdout",
          "text": [
            "John's average grade is 86.25\n"
          ]
        }
      ]
    },
    {
      "cell_type": "code",
      "source": [
        "# 13)Create a class Rectangle with methods set_dimensions() to set the dimensions and area() to calculate the area\n",
        "\n",
        "class Rectangle:\n",
        "    def __init__(self):\n",
        "        self.width = 0\n",
        "        self.height = 0\n",
        "\n",
        "    def set_dimensions(self, width, height):\n",
        "        self.width = width\n",
        "        self.height = height\n",
        "\n",
        "    def area(self):\n",
        "        return self.width * self.height\n",
        "\n",
        "rect = Rectangle()\n",
        "rect.set_dimensions(5, 10)\n",
        "print(f\"Area of the rectangle: {rect.area()}\")\n"
      ],
      "metadata": {
        "colab": {
          "base_uri": "https://localhost:8080/"
        },
        "id": "uRFIC0Tr8Bb_",
        "outputId": "dce952a1-58d8-4021-89ea-45161f6f2fe5"
      },
      "execution_count": 21,
      "outputs": [
        {
          "output_type": "stream",
          "name": "stdout",
          "text": [
            "Area of the rectangle: 50\n"
          ]
        }
      ]
    },
    {
      "cell_type": "code",
      "source": [
        "# 14) . Create a class Employee with a method calculate_salary() that computes the salary based on hours worked and hourly rate. Create a derived class Manager that adds a bonus to the salary.\n",
        "\n",
        "class Employee:\n",
        "    def __init__(self, name, hours_worked, hourly_rate):\n",
        "        self.name = name\n",
        "        self.hours_worked = hours_worked\n",
        "        self.hourly_rate = hourly_rate\n",
        "\n",
        "    def calculate_salary(self):\n",
        "        return self.hours_worked * self.hourly_rate\n",
        "\n",
        "class Manager(Employee):\n",
        "    def __init__(self, name, hours_worked, hourly_rate, bonus):\n",
        "        super().__init__(name, hours_worked, hourly_rate)\n",
        "        self.bonus = bonus\n",
        "\n",
        "    def calculate_salary(self):\n",
        "        base_salary = super().calculate_salary()\n",
        "        return base_salary + self.bonus\n",
        "\n",
        "emp = Employee(\"Alice\", 40, 20)\n",
        "mgr = Manager(\"Bob\", 40, 25, 500)\n",
        "\n",
        "print(f\"{emp.name}'s salary: ${emp.calculate_salary()}\")\n",
        "print(f\"{mgr.name}'s salary: ${mgr.calculate_salary()}\")\n"
      ],
      "metadata": {
        "colab": {
          "base_uri": "https://localhost:8080/"
        },
        "id": "mPuowx988KGN",
        "outputId": "69634a6a-12f4-499e-acc9-4e2b59019f7e"
      },
      "execution_count": 22,
      "outputs": [
        {
          "output_type": "stream",
          "name": "stdout",
          "text": [
            "Alice's salary: $800\n",
            "Bob's salary: $1500\n"
          ]
        }
      ]
    },
    {
      "cell_type": "code",
      "source": [
        "# 15) Create a class Product with attributes name, price, and quantity. Implement a method total_price() that calculates the total price of the product\n",
        "\n",
        "class Product:\n",
        "    def __init__(self, name, price, quantity):\n",
        "        self.name = name\n",
        "        self.price = price\n",
        "        self.quantity = quantity\n",
        "\n",
        "    def total_price(self):\n",
        "        return self.price * self.quantity\n",
        "\n",
        "product = Product(\"Laptop\", 800, 3)\n",
        "print(f\"Total price for {product.quantity} {product.name}(s): ${product.total_price()}\")\n"
      ],
      "metadata": {
        "colab": {
          "base_uri": "https://localhost:8080/"
        },
        "id": "96ED5Ta_8UJ5",
        "outputId": "6828695a-297a-452a-da63-80f2fdf2ccf0"
      },
      "execution_count": 23,
      "outputs": [
        {
          "output_type": "stream",
          "name": "stdout",
          "text": [
            "Total price for 3 Laptop(s): $2400\n"
          ]
        }
      ]
    },
    {
      "cell_type": "code",
      "source": [
        "# 16)Create a class Animal with an abstract method sound(). Create two derived classes Cow and Sheep that implement the sound() method.\n",
        "\n",
        "from abc import ABC, abstractmethod\n",
        "\n",
        "class Animal(ABC):\n",
        "    @abstractmethod\n",
        "    def sound(self):\n",
        "        pass\n",
        "\n",
        "class Cow(Animal):\n",
        "    def sound(self):\n",
        "        return \"Moo\"\n",
        "\n",
        "class Sheep(Animal):\n",
        "    def sound(self):\n",
        "        return \"Baa\"\n",
        "\n",
        "cow = Cow()\n",
        "sheep = Sheep()\n",
        "\n",
        "print(f\"Cow says: {cow.sound()}\")\n",
        "print(f\"Sheep says: {sheep.sound()}\")\n"
      ],
      "metadata": {
        "colab": {
          "base_uri": "https://localhost:8080/"
        },
        "id": "SxsCHp7w8i4_",
        "outputId": "69e85dea-f72d-48b3-9b4a-ba1a18f6592d"
      },
      "execution_count": 24,
      "outputs": [
        {
          "output_type": "stream",
          "name": "stdout",
          "text": [
            "Cow says: Moo\n",
            "Sheep says: Baa\n"
          ]
        }
      ]
    },
    {
      "cell_type": "code",
      "source": [
        "# 17) Create a class Book with attributes title, author, and year_published. Add a method get_book_info() that returns a formatted string with the book's details.\n",
        "\n",
        "class Book:\n",
        "    def __init__(self, title, author, year_published):\n",
        "        self.title = title\n",
        "        self.author = author\n",
        "        self.year_published = year_published\n",
        "\n",
        "    def get_book_info(self):\n",
        "        return f\"'{self.title}' by {self.author}, published in {self.year_published}\"\n",
        "\n",
        "\n",
        "book = Book(\"To Kill a Mockingbird\", \"Harper Lee\", 1960)\n",
        "print(book.get_book_info())"
      ],
      "metadata": {
        "colab": {
          "base_uri": "https://localhost:8080/"
        },
        "id": "LpHW77ML81kq",
        "outputId": "4eedbddb-b656-4538-c949-fadee47de91d"
      },
      "execution_count": 25,
      "outputs": [
        {
          "output_type": "stream",
          "name": "stdout",
          "text": [
            "'To Kill a Mockingbird' by Harper Lee, published in 1960\n"
          ]
        }
      ]
    },
    {
      "cell_type": "code",
      "source": [
        "# 18) Create a class House with attributes address and price. Create a derived class Mansion that adds an attribute number_of_rooms.\n",
        "\n",
        "class House:\n",
        "    def __init__(self, address, price):\n",
        "        self.address = address\n",
        "        self.price = price\n",
        "\n",
        "    def get_info(self):\n",
        "        return f\"House at {self.address}, priced at ${self.price}\"\n",
        "\n",
        "class Mansion(House):\n",
        "    def __init__(self, address, price, number_of_rooms):\n",
        "        super().__init__(address, price)\n",
        "        self.number_of_rooms = number_of_rooms\n",
        "\n",
        "    def get_info(self):\n",
        "        return f\"Mansion at {self.address}, priced at ${self.price}, with {self.number_of_rooms} rooms\"\n",
        "\n",
        "house = House(\"123 Maple St\", 250000)\n",
        "mansion = Mansion(\"456 Grand Ave\", 2000000, 12)\n",
        "\n",
        "print(house.get_info())\n",
        "print(mansion.get_info())\n"
      ],
      "metadata": {
        "colab": {
          "base_uri": "https://localhost:8080/"
        },
        "id": "jwkQm8AK9Bj9",
        "outputId": "b76b3b64-93c2-4b7a-c9f5-3db2b5c9e61e"
      },
      "execution_count": 26,
      "outputs": [
        {
          "output_type": "stream",
          "name": "stdout",
          "text": [
            "House at 123 Maple St, priced at $250000\n",
            "Mansion at 456 Grand Ave, priced at $2000000, with 12 rooms\n"
          ]
        }
      ]
    }
  ]
}